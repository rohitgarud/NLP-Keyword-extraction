{
 "cells": [
  {
   "cell_type": "markdown",
   "metadata": {},
   "source": [
    "# Yet Another Keyword Extractor"
   ]
  },
  {
   "cell_type": "code",
   "execution_count": 11,
   "metadata": {},
   "outputs": [],
   "source": [
    "import pandas as pd\n",
    "\n",
    "from nltk.corpus import stopwords\n",
    "import yake\n",
    "from fuzzywuzzy import process\n",
    "import string"
   ]
  },
  {
   "cell_type": "markdown",
   "metadata": {},
   "source": [
    "## Dataset"
   ]
  },
  {
   "cell_type": "code",
   "execution_count": 12,
   "metadata": {},
   "outputs": [
    {
     "data": {
      "text/html": [
       "<div>\n",
       "<style scoped>\n",
       "    .dataframe tbody tr th:only-of-type {\n",
       "        vertical-align: middle;\n",
       "    }\n",
       "\n",
       "    .dataframe tbody tr th {\n",
       "        vertical-align: top;\n",
       "    }\n",
       "\n",
       "    .dataframe thead th {\n",
       "        text-align: right;\n",
       "    }\n",
       "</style>\n",
       "<table border=\"1\" class=\"dataframe\">\n",
       "  <thead>\n",
       "    <tr style=\"text-align: right;\">\n",
       "      <th></th>\n",
       "      <th>title</th>\n",
       "      <th>keywords</th>\n",
       "      <th>abstract</th>\n",
       "      <th>session</th>\n",
       "      <th>year</th>\n",
       "    </tr>\n",
       "    <tr>\n",
       "      <th>paper_id</th>\n",
       "      <th></th>\n",
       "      <th></th>\n",
       "      <th></th>\n",
       "      <th></th>\n",
       "      <th></th>\n",
       "    </tr>\n",
       "  </thead>\n",
       "  <tbody>\n",
       "    <tr>\n",
       "      <th>1</th>\n",
       "      <td>Ensemble Statistical and Heuristic Models for ...</td>\n",
       "      <td>statistical word alignment, ensemble learning,...</td>\n",
       "      <td>Statistical word alignment models need large a...</td>\n",
       "      <td>Ensemble Methods</td>\n",
       "      <td>2014</td>\n",
       "    </tr>\n",
       "    <tr>\n",
       "      <th>2</th>\n",
       "      <td>Improving Spectral Learning by Using Multiple ...</td>\n",
       "      <td>representation, spectral learning, discrete fo...</td>\n",
       "      <td>Spectral learning algorithms learn an unknown ...</td>\n",
       "      <td>Ensemble Methods</td>\n",
       "      <td>2014</td>\n",
       "    </tr>\n",
       "    <tr>\n",
       "      <th>3</th>\n",
       "      <td>Applying Swarm Ensemble Clustering Technique f...</td>\n",
       "      <td>software defect prediction, particle swarm opt...</td>\n",
       "      <td>Number of defects remaining in a system provid...</td>\n",
       "      <td>Ensemble Methods</td>\n",
       "      <td>2014</td>\n",
       "    </tr>\n",
       "    <tr>\n",
       "      <th>4</th>\n",
       "      <td>Reducing the Effects of Detrimental Instances</td>\n",
       "      <td>filtering, label noise, instance weighting</td>\n",
       "      <td>Not all instances in a data set are equally be...</td>\n",
       "      <td>Ensemble Methods</td>\n",
       "      <td>2014</td>\n",
       "    </tr>\n",
       "    <tr>\n",
       "      <th>5</th>\n",
       "      <td>Concept Drift Awareness in Twitter Streams</td>\n",
       "      <td>twitter, adaptation models, time-frequency ana...</td>\n",
       "      <td>Learning in non-stationary environments is not...</td>\n",
       "      <td>Ensemble Methods</td>\n",
       "      <td>2014</td>\n",
       "    </tr>\n",
       "  </tbody>\n",
       "</table>\n",
       "</div>"
      ],
      "text/plain": [
       "                                                      title  \\\n",
       "paper_id                                                      \n",
       "1         Ensemble Statistical and Heuristic Models for ...   \n",
       "2         Improving Spectral Learning by Using Multiple ...   \n",
       "3         Applying Swarm Ensemble Clustering Technique f...   \n",
       "4             Reducing the Effects of Detrimental Instances   \n",
       "5                Concept Drift Awareness in Twitter Streams   \n",
       "\n",
       "                                                   keywords  \\\n",
       "paper_id                                                      \n",
       "1         statistical word alignment, ensemble learning,...   \n",
       "2         representation, spectral learning, discrete fo...   \n",
       "3         software defect prediction, particle swarm opt...   \n",
       "4                filtering, label noise, instance weighting   \n",
       "5         twitter, adaptation models, time-frequency ana...   \n",
       "\n",
       "                                                   abstract           session  \\\n",
       "paper_id                                                                        \n",
       "1         Statistical word alignment models need large a...  Ensemble Methods   \n",
       "2         Spectral learning algorithms learn an unknown ...  Ensemble Methods   \n",
       "3         Number of defects remaining in a system provid...  Ensemble Methods   \n",
       "4         Not all instances in a data set are equally be...  Ensemble Methods   \n",
       "5         Learning in non-stationary environments is not...  Ensemble Methods   \n",
       "\n",
       "          year  \n",
       "paper_id        \n",
       "1         2014  \n",
       "2         2014  \n",
       "3         2014  \n",
       "4         2014  \n",
       "5         2014  "
      ]
     },
     "execution_count": 12,
     "metadata": {},
     "output_type": "execute_result"
    }
   ],
   "source": [
    "# Reading the data \n",
    "dataset_csv = \"ICMLA_2014_2015_2016_2017.csv\"\n",
    "encoding = \"ISO-8859-1\"\n",
    "data_df = pd.read_csv(dataset_csv, encoding=encoding).set_index(\"paper_id\")\n",
    "data_df.head()"
   ]
  },
  {
   "cell_type": "markdown",
   "metadata": {},
   "source": []
  },
  {
   "cell_type": "code",
   "execution_count": 13,
   "metadata": {},
   "outputs": [],
   "source": [
    "data_df[\"text\"] = data_df[\"title\"] + \" \" + data_df[\"abstract\"]\n",
    "corpus = data_df[\"text\"].values"
   ]
  },
  {
   "cell_type": "code",
   "execution_count": 20,
   "metadata": {},
   "outputs": [],
   "source": [
    "# Applying pre_process to single example text\n",
    "title = data_df[\"title\"].iloc[0]\n",
    "abstract = data_df[\"abstract\"].iloc[0]\n",
    "text = f\"{title} {abstract}\""
   ]
  },
  {
   "cell_type": "code",
   "execution_count": 57,
   "metadata": {},
   "outputs": [],
   "source": [
    "def extract_keywords_yake(text):\n",
    "    deduplication_threshold = 0.7\n",
    "    deduplication_algo = 'seqm'\n",
    "    numOfKeywords = 20\n",
    "    y = yake.KeywordExtractor( \n",
    "        n=3, # maximum ngram size\n",
    "        dedupLim=0.7, # deduplication threshold\n",
    "        dedupFunc='seqm', # deduplication algorithm\n",
    "        top=numOfKeywords, \n",
    "        features=None)\n",
    "    doc_keywords = [keyword[0] for keyword in y.extract_keywords(text)][::-1]\n",
    "    deduplicated_doc_keywords = list(process.dedupe(doc_keywords, threshold=70))\n",
    "    final_keywords = \", \".join(deduplicated_doc_keywords)\n",
    "    return final_keywords"
   ]
  },
  {
   "cell_type": "code",
   "execution_count": 58,
   "metadata": {},
   "outputs": [
    {
     "data": {
      "text/plain": [
       "'Unsupervised Word Alignment, word alignment models, Statistical and Heuristic, small-size corpora, large amount, Alignment Statistical word'"
      ]
     },
     "execution_count": 58,
     "metadata": {},
     "output_type": "execute_result"
    }
   ],
   "source": [
    "extract_keywords_yake(text)"
   ]
  },
  {
   "cell_type": "code",
   "execution_count": 59,
   "metadata": {},
   "outputs": [
    {
     "data": {
      "text/plain": [
       "paper_id\n",
       "1      Unsupervised Word Alignment, word alignment mo...\n",
       "2      Spectral learning algorithms, Improving Spectr...\n",
       "3      Number of defects, Ensemble Clustering Techniq...\n",
       "4      weighting detrimental instances, RDIL, learnin...\n",
       "5      ability, Twitter Streams Learning, Twitter mes...\n",
       "                             ...                        \n",
       "444    Supporting Advanced Knowledge, Machine Learnin...\n",
       "445    resource requests measurements, applications.W...\n",
       "446    apply cluster analysis, challenging behaviors ...\n",
       "447    high impact mHealth, cost and high, low cost, ...\n",
       "448    Meaning Centered Psychotherapy, Bayesian Nonpa...\n",
       "Name: extracted_keywords, Length: 448, dtype: object"
      ]
     },
     "execution_count": 59,
     "metadata": {},
     "output_type": "execute_result"
    }
   ],
   "source": [
    "data_df[\"extracted_keywords\"] = data_df[\"text\"].apply(extract_keywords_yake)\n",
    "data_df[\"extracted_keywords\"]"
   ]
  },
  {
   "cell_type": "code",
   "execution_count": 60,
   "metadata": {},
   "outputs": [
    {
     "data": {
      "text/plain": [
       "'Number of defects, Ensemble Clustering Technique, defect prediction software, Software Metrics Number, data mining techniques, Technique for Fault, Particle Swarm Optimization, Applying Swarm Ensemble, Swarm Ensemble Clustering'"
      ]
     },
     "execution_count": 60,
     "metadata": {},
     "output_type": "execute_result"
    }
   ],
   "source": [
    "data_df[\"extracted_keywords\"].iloc[2]"
   ]
  },
  {
   "cell_type": "code",
   "execution_count": null,
   "metadata": {},
   "outputs": [],
   "source": [
    "data_df.to_csv(\"yake_keywords.csv\")"
   ]
  }
 ],
 "metadata": {
  "interpreter": {
   "hash": "b692d53c618c7279fd8f739b29cb9b56968a589a1952adc40c54d9e83ebc1323"
  },
  "kernelspec": {
   "display_name": "Python 3.10.0 ('openai')",
   "language": "python",
   "name": "python3"
  },
  "language_info": {
   "codemirror_mode": {
    "name": "ipython",
    "version": 3
   },
   "file_extension": ".py",
   "mimetype": "text/x-python",
   "name": "python",
   "nbconvert_exporter": "python",
   "pygments_lexer": "ipython3",
   "version": "3.10.0"
  },
  "orig_nbformat": 4
 },
 "nbformat": 4,
 "nbformat_minor": 2
}
