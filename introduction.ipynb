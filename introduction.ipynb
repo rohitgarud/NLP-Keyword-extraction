{
 "cells": [
  {
   "cell_type": "markdown",
   "metadata": {},
   "source": [
    "# NLP Keyword Extraction - Introduction"
   ]
  },
  {
   "cell_type": "markdown",
   "metadata": {},
   "source": [
    "Keyword extraction is a natural language processing technique that automatically identifies the most important words and phrases in a document. It is used to extract the most relevant words and phrases that summarize the main themes of the text. These words and phrases can be used as index terms or tags to help classify and organize the text, and can also be used as input to other NLP tasks such as text summarization or information retrieval."
   ]
  },
  {
   "cell_type": "markdown",
   "metadata": {},
   "source": [
    "## Dataset"
   ]
  },
  {
   "cell_type": "markdown",
   "metadata": {},
   "source": [
    "There are various dataset available for the task of keyword extraction. I am particularly interested in the keyword extraction from the title and abstract of a research paper and hence the [ICMLA 2014/2015/2016/2017 Accepted Papers Data Set](https://data.mendeley.com/datasets/wj5vb6h9jy/2) from Mendeley Data is used here in the examples."
   ]
  },
  {
   "cell_type": "markdown",
   "metadata": {},
   "source": [
    "## Keyword Extraction Methods"
   ]
  },
  {
   "cell_type": "markdown",
   "metadata": {},
   "source": [
    "There are multiple keyword extraction methods:\n",
    "### Term Frequency-Inverse Document Frequency (TF-IDF)"
   ]
  },
  {
   "cell_type": "markdown",
   "metadata": {},
   "source": [
    "TF-IDF (Term Frequency-Inverse Document Frequency) is a statistical measure used to evaluate the importance of a word or phrase within a document in relation to an entire corpus. It's often used as a weighting factor in information retrieval and text mining tasks, such as text summarization, document classification and keyword extraction."
   ]
  },
  {
   "cell_type": "markdown",
   "metadata": {},
   "source": [
    "The basic idea behind TF-IDF is that words that appear frequently in a document are likely to be more important to the meaning of that document than words that appear less frequently. However, it also takes into account that some words, such as \"the\" or \"and\", appear frequently across many documents, and therefore shouldn't be given as much weight as words that appear less frequently in the corpus. This is where the \"IDF\" component comes in, which down-weights words that appear in many documents. "
   ]
  },
  {
   "cell_type": "markdown",
   "metadata": {},
   "source": [
    "The term frequency (TF) can be calculated as:\n",
    "$$tf(t,d) = \\frac{n(t,d)}{\\sum_{i=1}^{n}n(i,d)}$$\n",
    "\n"
   ]
  },
  {
   "cell_type": "markdown",
   "metadata": {},
   "source": [
    "The inverse document frequency (IDF) can be calculated as:\n",
    "$$idf(t) = \\log_{10}\\left(\\frac{N}{df(t)}\\right)\n",
    "$$"
   ]
  },
  {
   "cell_type": "markdown",
   "metadata": {},
   "source": [
    "TF-IDF is just the multiplication of TF and IDF:\n",
    "$$tf-idf(t,d) = tf(t,d) \\times idf(t)$$"
   ]
  },
  {
   "cell_type": "markdown",
   "metadata": {},
   "source": [
    "Where,\n",
    "|Term| Meaning|\n",
    "|---|---|\n",
    "|$tf(t,d)$          |  term frequency of term `t` in document `d`|\n",
    "| $n(t,d) $          | number of occurrences of term `t` in document `d`|\n",
    "|  $\\sum_{i=1}^{n}n(i,d) $| total number of words in document `d` |\n",
    "| $idf(t) $          | inverse document frequency of term `t` |\n",
    "| $N $               | total number of documents in the corpus|\n",
    "| $df(t) $           | number of documents in the corpus that contain term `t`|\n",
    "| $tf-idf(t,d) $     | TF-IDF weight of term `t` in document `d`|\n",
    "\n",
    "\n"
   ]
  },
  {
   "cell_type": "markdown",
   "metadata": {},
   "source": [
    "For extracting the keywords, the TF-IDF of all the words in the document is calcuated and then top five keyphrases with the highest TF-IDF are selected as keywords. Keywords can be monograms, bigrams or n-grams where n ca be any number from 1 to $\\sum_{i=1}^{n}n(i,d) $."
   ]
  },
  {
   "cell_type": "markdown",
   "metadata": {},
   "source": [
    "## Referances"
   ]
  },
  {
   "cell_type": "markdown",
   "metadata": {},
   "source": [
    "- Vallejo-Huanga, Diego; Morillo, Paulina; Ferri, Cèsar (2019), “ICMLA 2014/2015/2016/2017 Accepted Papers Data Set”, Mendeley Data, V2, doi: 10.17632/wj5vb6h9jy.2"
   ]
  },
  {
   "cell_type": "markdown",
   "metadata": {},
   "source": []
  }
 ],
 "metadata": {
  "interpreter": {
   "hash": "b692d53c618c7279fd8f739b29cb9b56968a589a1952adc40c54d9e83ebc1323"
  },
  "kernelspec": {
   "display_name": "Python 3.10.0 ('openai')",
   "language": "python",
   "name": "python3"
  },
  "language_info": {
   "name": "python",
   "version": "3.10.0"
  },
  "orig_nbformat": 4
 },
 "nbformat": 4,
 "nbformat_minor": 2
}
