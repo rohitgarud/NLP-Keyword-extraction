{
 "cells": [
  {
   "cell_type": "markdown",
   "metadata": {},
   "source": [
    "# Keyword Extraction using TF-IDF"
   ]
  },
  {
   "cell_type": "code",
   "execution_count": 120,
   "metadata": {},
   "outputs": [],
   "source": [
    "import pandas as pd\n",
    "import numpy as np\n",
    "import re\n",
    "\n",
    "from nltk.corpus import stopwords\n",
    "from nltk.stem import WordNetLemmatizer\n",
    "from sklearn.feature_extraction.text import TfidfVectorizer\n",
    "from fuzzywuzzy import process\n",
    "\n",
    "stop_words = set(stopwords.words(\"english\"))\n",
    "wordnet = WordNetLemmatizer()\n",
    "# Initialize the TfidfVectorizer \n",
    "vectorizer = TfidfVectorizer(ngram_range=(1,4))"
   ]
  },
  {
   "cell_type": "markdown",
   "metadata": {},
   "source": [
    "## Dataset"
   ]
  },
  {
   "cell_type": "code",
   "execution_count": 121,
   "metadata": {},
   "outputs": [
    {
     "data": {
      "text/html": [
       "<div>\n",
       "<style scoped>\n",
       "    .dataframe tbody tr th:only-of-type {\n",
       "        vertical-align: middle;\n",
       "    }\n",
       "\n",
       "    .dataframe tbody tr th {\n",
       "        vertical-align: top;\n",
       "    }\n",
       "\n",
       "    .dataframe thead th {\n",
       "        text-align: right;\n",
       "    }\n",
       "</style>\n",
       "<table border=\"1\" class=\"dataframe\">\n",
       "  <thead>\n",
       "    <tr style=\"text-align: right;\">\n",
       "      <th></th>\n",
       "      <th>title</th>\n",
       "      <th>keywords</th>\n",
       "      <th>abstract</th>\n",
       "      <th>session</th>\n",
       "      <th>year</th>\n",
       "    </tr>\n",
       "    <tr>\n",
       "      <th>paper_id</th>\n",
       "      <th></th>\n",
       "      <th></th>\n",
       "      <th></th>\n",
       "      <th></th>\n",
       "      <th></th>\n",
       "    </tr>\n",
       "  </thead>\n",
       "  <tbody>\n",
       "    <tr>\n",
       "      <th>1</th>\n",
       "      <td>Ensemble Statistical and Heuristic Models for ...</td>\n",
       "      <td>statistical word alignment, ensemble learning,...</td>\n",
       "      <td>Statistical word alignment models need large a...</td>\n",
       "      <td>Ensemble Methods</td>\n",
       "      <td>2014</td>\n",
       "    </tr>\n",
       "    <tr>\n",
       "      <th>2</th>\n",
       "      <td>Improving Spectral Learning by Using Multiple ...</td>\n",
       "      <td>representation, spectral learning, discrete fo...</td>\n",
       "      <td>Spectral learning algorithms learn an unknown ...</td>\n",
       "      <td>Ensemble Methods</td>\n",
       "      <td>2014</td>\n",
       "    </tr>\n",
       "    <tr>\n",
       "      <th>3</th>\n",
       "      <td>Applying Swarm Ensemble Clustering Technique f...</td>\n",
       "      <td>software defect prediction, particle swarm opt...</td>\n",
       "      <td>Number of defects remaining in a system provid...</td>\n",
       "      <td>Ensemble Methods</td>\n",
       "      <td>2014</td>\n",
       "    </tr>\n",
       "    <tr>\n",
       "      <th>4</th>\n",
       "      <td>Reducing the Effects of Detrimental Instances</td>\n",
       "      <td>filtering, label noise, instance weighting</td>\n",
       "      <td>Not all instances in a data set are equally be...</td>\n",
       "      <td>Ensemble Methods</td>\n",
       "      <td>2014</td>\n",
       "    </tr>\n",
       "    <tr>\n",
       "      <th>5</th>\n",
       "      <td>Concept Drift Awareness in Twitter Streams</td>\n",
       "      <td>twitter, adaptation models, time-frequency ana...</td>\n",
       "      <td>Learning in non-stationary environments is not...</td>\n",
       "      <td>Ensemble Methods</td>\n",
       "      <td>2014</td>\n",
       "    </tr>\n",
       "  </tbody>\n",
       "</table>\n",
       "</div>"
      ],
      "text/plain": [
       "                                                      title  \\\n",
       "paper_id                                                      \n",
       "1         Ensemble Statistical and Heuristic Models for ...   \n",
       "2         Improving Spectral Learning by Using Multiple ...   \n",
       "3         Applying Swarm Ensemble Clustering Technique f...   \n",
       "4             Reducing the Effects of Detrimental Instances   \n",
       "5                Concept Drift Awareness in Twitter Streams   \n",
       "\n",
       "                                                   keywords  \\\n",
       "paper_id                                                      \n",
       "1         statistical word alignment, ensemble learning,...   \n",
       "2         representation, spectral learning, discrete fo...   \n",
       "3         software defect prediction, particle swarm opt...   \n",
       "4                filtering, label noise, instance weighting   \n",
       "5         twitter, adaptation models, time-frequency ana...   \n",
       "\n",
       "                                                   abstract           session  \\\n",
       "paper_id                                                                        \n",
       "1         Statistical word alignment models need large a...  Ensemble Methods   \n",
       "2         Spectral learning algorithms learn an unknown ...  Ensemble Methods   \n",
       "3         Number of defects remaining in a system provid...  Ensemble Methods   \n",
       "4         Not all instances in a data set are equally be...  Ensemble Methods   \n",
       "5         Learning in non-stationary environments is not...  Ensemble Methods   \n",
       "\n",
       "          year  \n",
       "paper_id        \n",
       "1         2014  \n",
       "2         2014  \n",
       "3         2014  \n",
       "4         2014  \n",
       "5         2014  "
      ]
     },
     "execution_count": 121,
     "metadata": {},
     "output_type": "execute_result"
    }
   ],
   "source": [
    "# Reading the data \n",
    "dataset_csv = \"ICMLA_2014_2015_2016_2017.csv\"\n",
    "encoding = \"ISO-8859-1\"\n",
    "data_df = pd.read_csv(dataset_csv, encoding=encoding).set_index(\"paper_id\")\n",
    "data_df.head()"
   ]
  },
  {
   "cell_type": "markdown",
   "metadata": {},
   "source": [
    "## Data Pre-processing (Data Cleaning)"
   ]
  },
  {
   "cell_type": "code",
   "execution_count": 122,
   "metadata": {},
   "outputs": [],
   "source": [
    "def pre_process(text):\n",
    "    text = re.sub(\"[^a-zA-Z]\", \" \", text)\n",
    "    text = text.lower()\n",
    "    text = text.split()\n",
    "    text = [wordnet.lemmatize(word) for word in text if not word in stop_words]\n",
    "    return\" \".join(text)"
   ]
  },
  {
   "cell_type": "code",
   "execution_count": 123,
   "metadata": {},
   "outputs": [
    {
     "name": "stdout",
     "output_type": "stream",
     "text": [
      "Ensemble Statistical and Heuristic Models for Unsupervised Word Alignment Statistical word alignment models need large amount of training data while they are weak in small-size corpora. This paper proposes a new approach of unsupervised hybrid word alignment technique using ensemble learning method. This algorithm uses three base alignment models in several rounds to generate alignments. The ensemble algorithm uses a weighed scheme for resampling training data and a voting score to consider aggregated alignments. The underlying alignment algorithms used in this study include IBM Model 1, 2 and a heuristic method based on Dice measurement. Our experimental results show that by this approach, the alignment error rate could be improved by at least %15 for the base alignment models.\n",
      "================================\n"
     ]
    },
    {
     "data": {
      "text/plain": [
       "'ensemble statistical heuristic model unsupervised word alignment statistical word alignment model need large amount training data weak small size corpus paper proposes new approach unsupervised hybrid word alignment technique using ensemble learning method algorithm us three base alignment model several round generate alignment ensemble algorithm us weighed scheme resampling training data voting score consider aggregated alignment underlying alignment algorithm used study include ibm model heuristic method based dice measurement experimental result show approach alignment error rate could improved least base alignment model'"
      ]
     },
     "execution_count": 123,
     "metadata": {},
     "output_type": "execute_result"
    }
   ],
   "source": [
    "# Applying pre_process to single example text\n",
    "title = data_df[\"title\"].iloc[0]\n",
    "abstract = data_df[\"abstract\"].iloc[0]\n",
    "text = f\"{title} {abstract}\"\n",
    "print(text)\n",
    "print(\"================================\")\n",
    "pre_process(text)"
   ]
  },
  {
   "cell_type": "code",
   "execution_count": 124,
   "metadata": {},
   "outputs": [],
   "source": [
    "# Applying preprocessing to entire dataset\n",
    "data_df[\"text\"] = data_df[\"title\"] + \" \" + data_df[\"abstract\"]\n",
    "data_df[\"text\"] = data_df[\"text\"].apply(pre_process)\n",
    "corpus = data_df[\"text\"].values"
   ]
  },
  {
   "cell_type": "code",
   "execution_count": 125,
   "metadata": {},
   "outputs": [
    {
     "data": {
      "text/plain": [
       "(448, 131538)"
      ]
     },
     "execution_count": 125,
     "metadata": {},
     "output_type": "execute_result"
    }
   ],
   "source": [
    "# Fit and transform the text\n",
    "tfidf = vectorizer.fit_transform(corpus)\n",
    "\n",
    "# Get the feature names\n",
    "feature_names = vectorizer.get_feature_names_out()\n",
    "\n",
    "tfidf.shape"
   ]
  },
  {
   "cell_type": "code",
   "execution_count": 126,
   "metadata": {},
   "outputs": [
    {
     "data": {
      "text/plain": [
       "'statistical word alignment, ensemble learning, heuristic word alignment'"
      ]
     },
     "execution_count": 126,
     "metadata": {},
     "output_type": "execute_result"
    }
   ],
   "source": [
    "author_keywords = data_df[\"keywords\"].iloc[0]\n",
    "author_keywords"
   ]
  },
  {
   "cell_type": "code",
   "execution_count": 127,
   "metadata": {},
   "outputs": [
    {
     "data": {
      "text/plain": [
       "array(['alignment', 'alignment model', 'word alignment',\n",
       "       'base alignment model', 'base alignment', 'word', 'ensemble',\n",
       "       'algorithm us', 'heuristic', 'model'], dtype=object)"
      ]
     },
     "execution_count": 127,
     "metadata": {},
     "output_type": "execute_result"
    }
   ],
   "source": [
    "keyword_list = feature_names[np.argsort(tfidf.toarray()[0])[-10:][::-1]]\n",
    "keyword_list"
   ]
  },
  {
   "cell_type": "markdown",
   "metadata": {},
   "source": [
    "## Reducing duplication of keywords"
   ]
  },
  {
   "cell_type": "code",
   "execution_count": 128,
   "metadata": {},
   "outputs": [
    {
     "data": {
      "text/plain": [
       "dict_keys(['base alignment model', 'word alignment', 'ensemble', 'algorithm us', 'heuristic'])"
      ]
     },
     "execution_count": 128,
     "metadata": {},
     "output_type": "execute_result"
    }
   ],
   "source": [
    "deduplicated_keywords = process.dedupe(keyword_list, threshold=70)\n",
    "deduplicated_keywords"
   ]
  }
 ],
 "metadata": {
  "interpreter": {
   "hash": "b692d53c618c7279fd8f739b29cb9b56968a589a1952adc40c54d9e83ebc1323"
  },
  "kernelspec": {
   "display_name": "Python 3.10.0 ('openai')",
   "language": "python",
   "name": "python3"
  },
  "language_info": {
   "codemirror_mode": {
    "name": "ipython",
    "version": 3
   },
   "file_extension": ".py",
   "mimetype": "text/x-python",
   "name": "python",
   "nbconvert_exporter": "python",
   "pygments_lexer": "ipython3",
   "version": "3.10.0"
  },
  "orig_nbformat": 4
 },
 "nbformat": 4,
 "nbformat_minor": 2
}
