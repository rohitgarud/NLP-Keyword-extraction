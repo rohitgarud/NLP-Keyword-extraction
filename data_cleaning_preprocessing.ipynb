{
 "cells": [
  {
   "cell_type": "markdown",
   "metadata": {},
   "source": [
    "# Data Cleaning and Pre-processing"
   ]
  },
  {
   "cell_type": "code",
   "execution_count": 5,
   "metadata": {},
   "outputs": [],
   "source": [
    "import pandas as pd\n",
    "import re\n",
    "import string "
   ]
  },
  {
   "cell_type": "markdown",
   "metadata": {},
   "source": [
    "## Dataset"
   ]
  },
  {
   "cell_type": "code",
   "execution_count": 6,
   "metadata": {},
   "outputs": [
    {
     "data": {
      "text/html": [
       "<div>\n",
       "<style scoped>\n",
       "    .dataframe tbody tr th:only-of-type {\n",
       "        vertical-align: middle;\n",
       "    }\n",
       "\n",
       "    .dataframe tbody tr th {\n",
       "        vertical-align: top;\n",
       "    }\n",
       "\n",
       "    .dataframe thead th {\n",
       "        text-align: right;\n",
       "    }\n",
       "</style>\n",
       "<table border=\"1\" class=\"dataframe\">\n",
       "  <thead>\n",
       "    <tr style=\"text-align: right;\">\n",
       "      <th></th>\n",
       "      <th>title</th>\n",
       "      <th>keywords</th>\n",
       "      <th>abstract</th>\n",
       "      <th>session</th>\n",
       "      <th>year</th>\n",
       "    </tr>\n",
       "    <tr>\n",
       "      <th>paper_id</th>\n",
       "      <th></th>\n",
       "      <th></th>\n",
       "      <th></th>\n",
       "      <th></th>\n",
       "      <th></th>\n",
       "    </tr>\n",
       "  </thead>\n",
       "  <tbody>\n",
       "    <tr>\n",
       "      <th>1</th>\n",
       "      <td>Ensemble Statistical and Heuristic Models for ...</td>\n",
       "      <td>statistical word alignment, ensemble learning,...</td>\n",
       "      <td>Statistical word alignment models need large a...</td>\n",
       "      <td>Ensemble Methods</td>\n",
       "      <td>2014</td>\n",
       "    </tr>\n",
       "    <tr>\n",
       "      <th>2</th>\n",
       "      <td>Improving Spectral Learning by Using Multiple ...</td>\n",
       "      <td>representation, spectral learning, discrete fo...</td>\n",
       "      <td>Spectral learning algorithms learn an unknown ...</td>\n",
       "      <td>Ensemble Methods</td>\n",
       "      <td>2014</td>\n",
       "    </tr>\n",
       "    <tr>\n",
       "      <th>3</th>\n",
       "      <td>Applying Swarm Ensemble Clustering Technique f...</td>\n",
       "      <td>software defect prediction, particle swarm opt...</td>\n",
       "      <td>Number of defects remaining in a system provid...</td>\n",
       "      <td>Ensemble Methods</td>\n",
       "      <td>2014</td>\n",
       "    </tr>\n",
       "    <tr>\n",
       "      <th>4</th>\n",
       "      <td>Reducing the Effects of Detrimental Instances</td>\n",
       "      <td>filtering, label noise, instance weighting</td>\n",
       "      <td>Not all instances in a data set are equally be...</td>\n",
       "      <td>Ensemble Methods</td>\n",
       "      <td>2014</td>\n",
       "    </tr>\n",
       "    <tr>\n",
       "      <th>5</th>\n",
       "      <td>Concept Drift Awareness in Twitter Streams</td>\n",
       "      <td>twitter, adaptation models, time-frequency ana...</td>\n",
       "      <td>Learning in non-stationary environments is not...</td>\n",
       "      <td>Ensemble Methods</td>\n",
       "      <td>2014</td>\n",
       "    </tr>\n",
       "  </tbody>\n",
       "</table>\n",
       "</div>"
      ],
      "text/plain": [
       "                                                      title  \\\n",
       "paper_id                                                      \n",
       "1         Ensemble Statistical and Heuristic Models for ...   \n",
       "2         Improving Spectral Learning by Using Multiple ...   \n",
       "3         Applying Swarm Ensemble Clustering Technique f...   \n",
       "4             Reducing the Effects of Detrimental Instances   \n",
       "5                Concept Drift Awareness in Twitter Streams   \n",
       "\n",
       "                                                   keywords  \\\n",
       "paper_id                                                      \n",
       "1         statistical word alignment, ensemble learning,...   \n",
       "2         representation, spectral learning, discrete fo...   \n",
       "3         software defect prediction, particle swarm opt...   \n",
       "4                filtering, label noise, instance weighting   \n",
       "5         twitter, adaptation models, time-frequency ana...   \n",
       "\n",
       "                                                   abstract           session  \\\n",
       "paper_id                                                                        \n",
       "1         Statistical word alignment models need large a...  Ensemble Methods   \n",
       "2         Spectral learning algorithms learn an unknown ...  Ensemble Methods   \n",
       "3         Number of defects remaining in a system provid...  Ensemble Methods   \n",
       "4         Not all instances in a data set are equally be...  Ensemble Methods   \n",
       "5         Learning in non-stationary environments is not...  Ensemble Methods   \n",
       "\n",
       "          year  \n",
       "paper_id        \n",
       "1         2014  \n",
       "2         2014  \n",
       "3         2014  \n",
       "4         2014  \n",
       "5         2014  "
      ]
     },
     "execution_count": 6,
     "metadata": {},
     "output_type": "execute_result"
    }
   ],
   "source": [
    "# Reading the data \n",
    "dataset_csv = \"ICMLA_2014_2015_2016_2017.csv\"\n",
    "encoding = \"ISO-8859-1\"\n",
    "data_df = pd.read_csv(dataset_csv, encoding=encoding).set_index(\"paper_id\")\n",
    "data_df.head()"
   ]
  },
  {
   "cell_type": "markdown",
   "metadata": {},
   "source": [
    "## Different Preprocessing Techniques"
   ]
  },
  {
   "cell_type": "code",
   "execution_count": 7,
   "metadata": {},
   "outputs": [
    {
     "data": {
      "text/plain": [
       "'Ensemble Statistical and Heuristic Models for Unsupervised Word Alignment Statistical word alignment models need large amount of training data while they are weak in small-size corpora. This paper proposes a new approach of unsupervised hybrid word alignment technique using ensemble learning method. This algorithm uses three base alignment models in several rounds to generate alignments. The ensemble algorithm uses a weighed scheme for resampling training data and a voting score to consider aggregated alignments. The underlying alignment algorithms used in this study include IBM Model 1, 2 and a heuristic method based on Dice measurement. Our experimental results show that by this approach, the alignment error rate could be improved by at least %15 for the base alignment models.'"
      ]
     },
     "execution_count": 7,
     "metadata": {},
     "output_type": "execute_result"
    }
   ],
   "source": [
    "data_df[\"text\"] = data_df[\"title\"] + \" \" + data_df[\"abstract\"]\n",
    "data_df[\"text\"].values[0] "
   ]
  },
  {
   "cell_type": "markdown",
   "metadata": {},
   "source": [
    "### Lower Case"
   ]
  },
  {
   "cell_type": "code",
   "execution_count": 8,
   "metadata": {
    "vscode": {
     "languageId": "markdown"
    }
   },
   "outputs": [
    {
     "data": {
      "text/plain": [
       "'ensemble statistical and heuristic models for unsupervised word alignment statistical word alignment models need large amount of training data while they are weak in small-size corpora. this paper proposes a new approach of unsupervised hybrid word alignment technique using ensemble learning method. this algorithm uses three base alignment models in several rounds to generate alignments. the ensemble algorithm uses a weighed scheme for resampling training data and a voting score to consider aggregated alignments. the underlying alignment algorithms used in this study include ibm model 1, 2 and a heuristic method based on dice measurement. our experimental results show that by this approach, the alignment error rate could be improved by at least %15 for the base alignment models.'"
      ]
     },
     "execution_count": 8,
     "metadata": {},
     "output_type": "execute_result"
    }
   ],
   "source": [
    "data_df[\"text\"] = data_df[\"text\"].str.lower()\n",
    "data_df[\"text\"].values[0] "
   ]
  },
  {
   "cell_type": "markdown",
   "metadata": {},
   "source": [
    "### Detect and Remove URLs"
   ]
  },
  {
   "cell_type": "code",
   "execution_count": 37,
   "metadata": {},
   "outputs": [
    {
     "name": "stdout",
     "output_type": "stream",
     "text": [
      "['www.example1.com', 'www.example2.com']\n",
      "login to  and \n"
     ]
    }
   ],
   "source": [
    "#url\n",
    "text = \"login to www.example1.com and www.example2.com\"\n",
    "pattern = re.compile(r\"https?://\\S+|www\\.\\S+\")\n",
    "\n",
    "urls = re.findall(pattern, text)\n",
    "print(urls)\n",
    "\n",
    "cleaned_text = re.sub(pattern, \"\", text)\n",
    "print(cleaned_text)"
   ]
  },
  {
   "cell_type": "code",
   "execution_count": 38,
   "metadata": {},
   "outputs": [],
   "source": [
    "pattern = re.compile(r\"https?://\\S+|www\\.\\S+\")\n",
    "data_df[\"text\"] = data_df[\"text\"].apply(\n",
    "    lambda text: re.sub(pattern, \"\", text)\n",
    ")"
   ]
  },
  {
   "cell_type": "markdown",
   "metadata": {},
   "source": [
    "### Detect and Remove Email ID"
   ]
  },
  {
   "cell_type": "code",
   "execution_count": 39,
   "metadata": {},
   "outputs": [
    {
     "name": "stdout",
     "output_type": "stream",
     "text": [
      "['info@example.com']\n",
      "you can contact us at  \n"
     ]
    }
   ],
   "source": [
    "text = \"you can contact us at info@example.com \"\n",
    "pattern = re.compile(r\"[\\w\\.-]+@[\\w\\.-]+\\.\\w+\")\n",
    "email_ids = re.findall(pattern, text)\n",
    "print(email_ids)\n",
    "cleaned_text = re.sub(pattern, \"\", text)\n",
    "print(cleaned_text)"
   ]
  },
  {
   "cell_type": "code",
   "execution_count": 40,
   "metadata": {},
   "outputs": [],
   "source": [
    "pattern = re.compile(r\"[\\w\\.-]+@[\\w\\.-]+\\.\\w+\")\n",
    "data_df[\"text\"] = data_df[\"text\"].apply(\n",
    "    lambda text: re.sub(pattern, \"\", text)\n",
    ")"
   ]
  },
  {
   "cell_type": "markdown",
   "metadata": {},
   "source": [
    "### Remove Dates"
   ]
  },
  {
   "cell_type": "code",
   "execution_count": 43,
   "metadata": {},
   "outputs": [
    {
     "name": "stdout",
     "output_type": "stream",
     "text": [
      "['25-01-2023', '25/01/2023', '25.01.2023']\n",
      "Today's date in different formats is   \n"
     ]
    }
   ],
   "source": [
    "text = \"Today's date in different formats is 25-01-2023 25/01/2023 25.01.2023\"\n",
    "pattern = re.compile(r\"\\d+[\\.\\/-]\\d+[\\.\\/-]\\d+\")\n",
    "dates = re.findall(pattern, text)\n",
    "print(dates)\n",
    "cleaned_text = re.sub(pattern, \"\", text)\n",
    "print(cleaned_text)"
   ]
  },
  {
   "cell_type": "code",
   "execution_count": 44,
   "metadata": {},
   "outputs": [],
   "source": [
    "pattern = re.compile(r\"\\d+[\\.\\/-]\\d+[\\.\\/-]\\d+\")\n",
    "data_df[\"text\"] = data_df[\"text\"].apply(\n",
    "    lambda text: re.sub(pattern, \"\", text)\n",
    ")"
   ]
  },
  {
   "cell_type": "markdown",
   "metadata": {},
   "source": [
    "### Expand Contractions"
   ]
  },
  {
   "cell_type": "code",
   "execution_count": 10,
   "metadata": {},
   "outputs": [
    {
     "data": {
      "text/plain": [
       "'There are not many contractions they have used'"
      ]
     },
     "execution_count": 10,
     "metadata": {},
     "output_type": "execute_result"
    }
   ],
   "source": [
    "# !pip install contractions\n",
    "import contractions\n",
    "contractions.fix(\"There aren't many contractions they've used\")"
   ]
  },
  {
   "cell_type": "code",
   "execution_count": 11,
   "metadata": {},
   "outputs": [
    {
     "data": {
      "text/plain": [
       "'ensemble statistical and heuristic models for unsupervised word alignment statistical word alignment models need large amount of training data while they are weak in small-size corpora. this paper proposes a new approach of unsupervised hybrid word alignment technique using ensemble learning method. this algorithm uses three base alignment models in several rounds to generate alignments. the ensemble algorithm uses a weighed scheme for resampling training data and a voting score to consider aggregated alignments. the underlying alignment algorithms used in this study include ibm model 1, 2 and a heuristic method based on dice measurement. our experimental results show that by this approach, the alignment error rate could be improved by at least %15 for the base alignment models.'"
      ]
     },
     "execution_count": 11,
     "metadata": {},
     "output_type": "execute_result"
    }
   ],
   "source": [
    "data_df[\"text\"] = data_df[\"text\"].apply(contractions.fix)\n",
    "data_df[\"text\"].values[0]"
   ]
  },
  {
   "cell_type": "markdown",
   "metadata": {},
   "source": [
    "### Remove Stopwords"
   ]
  },
  {
   "cell_type": "code",
   "execution_count": 19,
   "metadata": {},
   "outputs": [],
   "source": [
    "with open(\"stopwords-en.txt\", encoding=\"utf-8\") as sw:\n",
    "    STOPWORDS_EN = sw.readlines()\n",
    "    STOPWORDS_EN = [word.replace(\"\\n\", \"\") for word in STOPWORDS_EN]"
   ]
  },
  {
   "cell_type": "code",
   "execution_count": 18,
   "metadata": {},
   "outputs": [
    {
     "data": {
      "text/plain": [
       "'ensemble statistical heuristic models unsupervised word alignment statistical word alignment models training data weak small-size corpora. paper proposes approach unsupervised hybrid word alignment technique ensemble learning method. algorithm base alignment models rounds generate alignments. ensemble algorithm weighed scheme resampling training data voting score aggregated alignments. underlying alignment algorithms study include ibm model 1, 2 heuristic method based dice measurement. experimental approach, alignment error rate improved %15 base alignment models.'"
      ]
     },
     "execution_count": 18,
     "metadata": {},
     "output_type": "execute_result"
    }
   ],
   "source": [
    "data_df[\"text\"] = data_df[\"text\"].apply(\n",
    "    lambda text: \" \".join([word for word in str(text).split() if word not in STOPWORDS_EN])\n",
    "    )\n",
    "data_df[\"text\"].values[0]"
   ]
  },
  {
   "cell_type": "markdown",
   "metadata": {},
   "source": [
    "### Remove Punctuations"
   ]
  },
  {
   "cell_type": "code",
   "execution_count": 24,
   "metadata": {},
   "outputs": [
    {
     "data": {
      "text/plain": [
       "'!\"#$%&\\'()*+,-./:;<=>?@[\\\\]^_`{|}~'"
      ]
     },
     "execution_count": 24,
     "metadata": {},
     "output_type": "execute_result"
    }
   ],
   "source": [
    "string.punctuation"
   ]
  },
  {
   "cell_type": "code",
   "execution_count": 26,
   "metadata": {},
   "outputs": [
    {
     "data": {
      "text/plain": [
       "'ensemble statistical heuristic models unsupervised word alignment statistical word alignment models training data weak smallsize corpora paper proposes approach unsupervised hybrid word alignment technique ensemble learning method algorithm base alignment models rounds generate alignments ensemble algorithm weighed scheme resampling training data voting score aggregated alignments underlying alignment algorithms study include ibm model 1 2 heuristic method based dice measurement experimental approach alignment error rate improved 15 base alignment models'"
      ]
     },
     "execution_count": 26,
     "metadata": {},
     "output_type": "execute_result"
    }
   ],
   "source": [
    "data_df[\"text\"] = data_df[\"text\"].apply(\n",
    "    lambda text: re.sub('[%s]' % re.escape(string.punctuation), \"\",text)\n",
    ")\n",
    "data_df[\"text\"].values[0]"
   ]
  },
  {
   "cell_type": "markdown",
   "metadata": {},
   "source": [
    "### Remove Digits"
   ]
  },
  {
   "cell_type": "code",
   "execution_count": 27,
   "metadata": {},
   "outputs": [
    {
     "data": {
      "text/plain": [
       "'ensemble statistical heuristic models unsupervised word alignment statistical word alignment models training data weak smallsize corpora paper proposes approach unsupervised hybrid word alignment technique ensemble learning method algorithm base alignment models rounds generate alignments ensemble algorithm weighed scheme resampling training data voting score aggregated alignments underlying alignment algorithms study include ibm model   heuristic method based dice measurement experimental approach alignment error rate improved  base alignment models'"
      ]
     },
     "execution_count": 27,
     "metadata": {},
     "output_type": "execute_result"
    }
   ],
   "source": [
    "data_df[\"text\"] = data_df[\"text\"].apply(\n",
    "    lambda text: re.sub('\\d','',text)\n",
    ")\n",
    "data_df[\"text\"].values[0]"
   ]
  },
  {
   "cell_type": "markdown",
   "metadata": {},
   "source": [
    "### Remove Extra Spaces"
   ]
  },
  {
   "cell_type": "code",
   "execution_count": 29,
   "metadata": {},
   "outputs": [
    {
     "data": {
      "text/plain": [
       "'ensemble statistical heuristic models unsupervised word alignment statistical word alignment models training data weak smallsize corpora paper proposes approach unsupervised hybrid word alignment technique ensemble learning method algorithm base alignment models rounds generate alignments ensemble algorithm weighed scheme resampling training data voting score aggregated alignments underlying alignment algorithms study include ibm model heuristic method based dice measurement experimental approach alignment error rate improved base alignment models'"
      ]
     },
     "execution_count": 29,
     "metadata": {},
     "output_type": "execute_result"
    }
   ],
   "source": [
    "data_df[\"text\"] = data_df[\"text\"].apply(\n",
    "    lambda text: re.sub(\" +\", \" \", text).strip()\n",
    ")\n",
    "data_df[\"text\"].values[0]"
   ]
  }
 ],
 "metadata": {
  "interpreter": {
   "hash": "b692d53c618c7279fd8f739b29cb9b56968a589a1952adc40c54d9e83ebc1323"
  },
  "kernelspec": {
   "display_name": "Python 3.10.0 ('openai')",
   "language": "python",
   "name": "python3"
  },
  "language_info": {
   "codemirror_mode": {
    "name": "ipython",
    "version": 3
   },
   "file_extension": ".py",
   "mimetype": "text/x-python",
   "name": "python",
   "nbconvert_exporter": "python",
   "pygments_lexer": "ipython3",
   "version": "3.10.0"
  },
  "orig_nbformat": 4
 },
 "nbformat": 4,
 "nbformat_minor": 2
}
